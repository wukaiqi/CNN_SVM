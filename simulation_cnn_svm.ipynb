{
 "cells": [
  {
   "cell_type": "code",
   "execution_count": null,
   "metadata": {},
   "outputs": [],
   "source": [
    "from skimage.feature import local_binary_pattern\n",
    "import numpy as np\n",
    "from PIL import Image\n",
    "import cv2\n",
    "from sklearn.externals import joblib"
   ]
  },
  {
   "cell_type": "code",
   "execution_count": null,
   "metadata": {},
   "outputs": [],
   "source": [
    "test_path=\"C:/Users/10449/Desktop/200.jpg\"\n",
    "\n",
    "###图像读取及lbp特征提取\n",
    "image = cv2.imread(test_path)\n",
    "image=resize(image,(256,256))\n",
    "image=image.astype(np.float32)\n",
    "image = cv2.cvtColor(image, cv2.COLOR_BGR2GRAY)\n",
    "lbp = local_binary_pattern(image, n_points, radius,'default')\n",
    "\n",
    "##svm模型调用计算结果\n",
    "RF=joblib.load('C:/Users/10449/Desktop/svm_train.model')\n",
    "svm_result=RF.predict(lbp)\n",
    "print('svm_result:'svm_result)\n",
    "\n",
    "##cnn模型调用计算结果\n",
    "NF=joblib.load('C:/Users/10449/Desktop/cnn_train.model')\n",
    "cnn_result=NF.predict(img)\n",
    "print('cnn_result:'cnn_result)\n",
    "\n",
    "rate = svm_result*cnn_result\n",
    "print('识别结果为'rate)\n",
    "\n"
   ]
  }
 ],
 "metadata": {
  "kernelspec": {
   "display_name": "Python 3",
   "language": "python",
   "name": "python3"
  },
  "language_info": {
   "codemirror_mode": {
    "name": "ipython",
    "version": 3
   },
   "file_extension": ".py",
   "mimetype": "text/x-python",
   "name": "python",
   "nbconvert_exporter": "python",
   "pygments_lexer": "ipython3",
   "version": "3.7.0"
  }
 },
 "nbformat": 4,
 "nbformat_minor": 2
}
