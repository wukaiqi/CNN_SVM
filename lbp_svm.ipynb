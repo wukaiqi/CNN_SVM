{
 "cells": [
  {
   "cell_type": "code",
   "execution_count": 14,
   "metadata": {},
   "outputs": [],
   "source": [
    "from skimage.transform import rotate,resize \n",
    "from skimage.feature import local_binary_pattern\n",
    "from skimage import data, io\n",
    "from skimage.color import label2rgb\n",
    "import skimage\n",
    "import numpy as np\n",
    "import matplotlib.pyplot as plt\n",
    "from PIL import Image\n",
    "import cv2\n",
    "import os\n",
    "from sklearn.svm import SVC\n",
    "from sklearn.multiclass import OneVsRestClassifier\n",
    "from sklearn.externals import joblib\n",
    "import time"
   ]
  },
  {
   "cell_type": "code",
   "execution_count": 15,
   "metadata": {},
   "outputs": [],
   "source": [
    "def get_files(filename):\n",
    "    class_train = []\n",
    "    label_train = []\n",
    "    for train_class in os.listdir(filename):\n",
    "        for pic in os.listdir(filename+train_class):\n",
    "            class_train.append(filename+train_class+'/'+pic)\n",
    "            label_train.append(train_class)\n",
    "    temp = np.array([class_train,label_train])\n",
    "    temp = temp.transpose()\n",
    "    #shuffle the samples\n",
    "    np.random.shuffle(temp)\n",
    "    #after transpose, images is in dimension 0 and label in dimension 1\n",
    "    image_list = list(temp[:,0])\n",
    "    label_list = list(temp[:,1])\n",
    "    label_list = [int(i) for i in label_list]\n",
    "    #print(image_list)\n",
    "    #print(label_list)\n",
    "    return image_list,label_list"
   ]
  },
  {
   "cell_type": "code",
   "execution_count": 16,
   "metadata": {
    "scrolled": true
   },
   "outputs": [
    {
     "name": "stdout",
     "output_type": "stream",
     "text": [
      "开始Lbp特征计算\n"
     ]
    },
    {
     "name": "stderr",
     "output_type": "stream",
     "text": [
      "C:\\Users\\10449\\Anaconda3\\envs\\py35\\lib\\site-packages\\skimage\\transform\\_warps.py:105: UserWarning: The default mode, 'constant', will be changed to 'reflect' in skimage 0.15.\n",
      "  warn(\"The default mode, 'constant', will be changed to 'reflect' in \"\n",
      "C:\\Users\\10449\\Anaconda3\\envs\\py35\\lib\\site-packages\\skimage\\transform\\_warps.py:110: UserWarning: Anti-aliasing will be enabled by default in skimage 0.15 to avoid aliasing artifacts when down-sampling images.\n",
      "  warn(\"Anti-aliasing will be enabled by default in skimage 0.15 to \"\n"
     ]
    },
    {
     "name": "stdout",
     "output_type": "stream",
     "text": [
      "训练完成\n",
      "开始测试\n",
      "0.3917994499206543\n",
      "0.7655842304229736\n"
     ]
    }
   ],
   "source": [
    "# settings for LBP\n",
    "radius = 1\n",
    "n_points = 8 * radius\n",
    "\n",
    "\n",
    "#获取label和地址\n",
    "train_path = 'C:/Users/10449/Desktop/data_svm/train/'\n",
    "train_image,train_label = get_files(train_path)\n",
    "test_path = 'C:/Users/10449/Desktop/data_svm/test/'\n",
    "test_image,test_label = get_files(test_path)\n",
    "\n",
    "# 读取图像\n",
    "\n",
    "\n",
    "train_hist = np.zeros( (10000,256) )\n",
    "test_hist = np.zeros( (1600,256) )\n",
    "test=np.zeros( (1,256) )\n",
    "\n",
    "print('开始Lbp特征计算')\n",
    "for i in range(len(train_image)):\n",
    "    if i >= len(train_image):\n",
    "        break\n",
    "    else:\n",
    "        image = cv2.imread(train_image[i])\n",
    "        image=resize(image,(170,170))\n",
    "        image=image.astype(np.float32)\n",
    "        image = cv2.cvtColor(image, cv2.COLOR_BGR2GRAY)\n",
    "        lbp = local_binary_pattern(image, n_points, radius,'default')\n",
    "        max_bins = int(lbp.max() + 1);\n",
    "        #hist size:256\n",
    "        train_hist[i], _ = np.histogram(lbp, normed=True, bins=max_bins, range=(0, max_bins));\n",
    "\n",
    "\n",
    "for i in range(len(test_image)):\n",
    "    if i >= len(test_image):\n",
    "        break\n",
    "    else:\n",
    "        image = cv2.imread(test_image[i])\n",
    "        image=resize(image,(170,170))\n",
    "        image=image.astype(np.float32)\n",
    "        image = cv2.cvtColor(image, cv2.COLOR_BGR2GRAY)\n",
    "        lbp = local_binary_pattern(image, n_points, radius,'default')\n",
    "        max_bins = int(lbp.max() + 1);\n",
    "        #hist size:256\n",
    "        test_hist[i], _ = np.histogram(lbp, normed=True, bins=max_bins, range=(0, max_bins));        \n",
    "\n",
    "\n",
    "print('训练完成')\n",
    "##训练结果\n",
    "\n",
    "svr_rbf = SVC(kernel='rbf', C=1e6,gamma=20);\n",
    "#x=OneVsRestClassifier(svr_rbf,-1).fit(train_hist, train_label).score(test_hist, test_label)\n",
    "svr_rbf.fit(train_hist, train_label)\n",
    "joblib.dump(svr_rbf, \"C:/Users/10449/Desktop/train.model\")\n",
    "#print(x)\n",
    "\n",
    "test_path=\"C:/Users/10449/Desktop/200.jpg\"\n",
    "print('开始测试')\n",
    "t1=time.time()\n",
    "image = cv2.imread(test_path)\n",
    "image=resize(image,(256,256))\n",
    "image=image.astype(np.float32)\n",
    "image = cv2.cvtColor(image, cv2.COLOR_BGR2GRAY)\n",
    "lbp = local_binary_pattern(image, n_points, radius,'default')\n",
    "#max_bins = int(lbp.max() + 1);\n",
    "        #hist size:256\n",
    "#test, _ = np.histogram(lbp, normed=True, bins=max_bins, range=(0, max_bins)); \n",
    "r1=svr_rbf.predict(lbp)\n",
    "t2=time.time()\n",
    "print(t2-t1)\n",
    "RF=joblib.load('C:/Users/10449/Desktop/train.model')\n",
    "result=RF.predict(lbp)\n",
    "t2=time.time()\n",
    "print(t2-t1)"
   ]
  },
  {
   "cell_type": "code",
   "execution_count": null,
   "metadata": {},
   "outputs": [],
   "source": []
  }
 ],
 "metadata": {
  "kernelspec": {
   "display_name": "Python 3",
   "language": "python",
   "name": "python3"
  },
  "language_info": {
   "codemirror_mode": {
    "name": "ipython",
    "version": 3
   },
   "file_extension": ".py",
   "mimetype": "text/x-python",
   "name": "python",
   "nbconvert_exporter": "python",
   "pygments_lexer": "ipython3",
   "version": "3.7.0"
  }
 },
 "nbformat": 4,
 "nbformat_minor": 2
}
